{
 "cells": [
  {
   "cell_type": "code",
   "execution_count": 1,
   "metadata": {},
   "outputs": [],
   "source": [
    "import requests\n",
    "from bs4 import BeautifulSoup\n",
    "\n",
    "url = \"https://rateyourmusic.com/new_releases\"\n",
    "headers = {\"User-Agent\": \"Mozilla/5.0 (Macintosh; Intel Mac OS X 10_14_1) AppleWebKit/537.36 (KHTML, like Gecko) Chrome/70.0.3538.102 Safari/537.36\"}\n",
    "response = requests.get(url, headers=headers)\n",
    "\n",
    "soup = BeautifulSoup(response.content, \"lxml\")\n",
    "table = soup.find(\"table\", class_=\"mbgen\")\n",
    "\n",
    "# Finds releases by multiple artists\n",
    "for multi in table.find_all(\"span\", class_=\"credited_name\"):\n",
    "    print(\"Artist:\", multi.contents[0])\n",
    "    print(\"Album:\", multi.findNextSibling(\"a\", class_=\"album\").text)\n",
    "    print(\"Release date:\", multi.findNextSibling(\"span\", class_=\"smallgray\").text.strip(\"()\").replace(\"  \", \" \"))\n",
    "    print(\"\\n\")\n",
    "\n",
    "# Finds releases by a single artist\n",
    "for release in table.select(\"td > a.artist\"):\n",
    "    print(\"Artist:\", release.text)\n",
    "    print(\"Album:\", release.findNextSibling(\"a\", class_=\"album\").text)\n",
    "    print(\"Release date:\",release.findNextSibling(\"span\", class_=\"smallgray\").text.strip(\"()\").replace(\"  \", \" \"))\n",
    "    print(\"\\n\")\n"
   ]
  }
 ],
 "metadata": {
  "kernelspec": {
   "display_name": "Python 3",
   "language": "python",
   "name": "python3"
  },
  "language_info": {
   "codemirror_mode": {
    "name": "ipython",
    "version": 3
   },
   "file_extension": ".py",
   "mimetype": "text/x-python",
   "name": "python",
   "nbconvert_exporter": "python",
   "pygments_lexer": "ipython3",
   "version": "3.7.0"
  }
 },
 "nbformat": 4,
 "nbformat_minor": 2
}
